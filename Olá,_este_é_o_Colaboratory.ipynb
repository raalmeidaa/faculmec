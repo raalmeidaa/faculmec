{
  "cells": [
    {
      "cell_type": "markdown",
      "metadata": {
        "id": "view-in-github",
        "colab_type": "text"
      },
      "source": [
        "<a href=\"https://colab.research.google.com/github/raalmeidaa/faculmec/blob/main/Ol%C3%A1%2C_este_%C3%A9_o_Colaboratory.ipynb\" target=\"_parent\"><img src=\"https://colab.research.google.com/assets/colab-badge.svg\" alt=\"Open In Colab\"/></a>"
      ]
    },
    {
      "cell_type": "code",
      "source": [
        "# Entradas das notas\n",
        "a = float(input(\"Digite a nota A: \"))\n",
        "b = float(input(\"Digite a nota B: \"))\n",
        "\n",
        "# Pesos das notas\n",
        "peso_a = 2\n",
        "peso_b = 3\n",
        "\n",
        "# Cálculo da média ponderada\n",
        "media = (a * peso_a + b * peso_b) / (peso_a + peso_b)\n",
        "\n",
        "# Exibição da média\n",
        "print(f\"A média ponderada é: {media:.2f}\")\n",
        "\n",
        "# Verificação de aprovação\n",
        "if media >= 5:\n",
        "    print(\"Aprovado\")\n",
        "else:\n",
        "    print(\"Reprovado\")\n"
      ],
      "metadata": {
        "colab": {
          "base_uri": "https://localhost:8080/"
        },
        "id": "jPeTFKMhSqSw",
        "outputId": "98d65c80-5f06-478e-e302-d7677e974aa4"
      },
      "execution_count": 5,
      "outputs": [
        {
          "output_type": "stream",
          "name": "stdout",
          "text": [
            "Digite a nota A: 6\n",
            "Digite a nota B: 4\n",
            "A média ponderada é: 4.80\n",
            "Reprovado\n"
          ]
        }
      ]
    },
    {
      "cell_type": "code",
      "source": [
        "# Entradas dos três valores\n",
        "a = float(input(\"Digite o valor A: \"))\n",
        "b = float(input(\"Digite o valor B: \"))\n",
        "c = float(input(\"Digite o valor C: \"))\n",
        "\n",
        "# Verificação do menor valor\n",
        "if a <= b and a <= c:\n",
        "    menor = a\n",
        "elif b <= a and b <= c:\n",
        "    menor = b\n",
        "else:\n",
        "    menor = c\n",
        "\n",
        "# Exibição do menor valor\n",
        "print(f\"O menor valor é: {menor}\")\n"
      ],
      "metadata": {
        "colab": {
          "base_uri": "https://localhost:8080/"
        },
        "id": "FkSFhGkFTMoF",
        "outputId": "d5bf63fd-198a-41d1-cdbb-4312b125c0ac"
      },
      "execution_count": 6,
      "outputs": [
        {
          "output_type": "stream",
          "name": "stdout",
          "text": [
            "Digite o valor A: 8\n",
            "Digite o valor B: 4\n",
            "Digite o valor C: 6\n",
            "O menor valor é: 4.0\n"
          ]
        }
      ]
    }
  ],
  "metadata": {
    "colab": {
      "name": "Olá, este é o Colaboratory",
      "toc_visible": true,
      "provenance": [],
      "include_colab_link": true
    },
    "kernelspec": {
      "display_name": "Python 3",
      "name": "python3"
    }
  },
  "nbformat": 4,
  "nbformat_minor": 0
}