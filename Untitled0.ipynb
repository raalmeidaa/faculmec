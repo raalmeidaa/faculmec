{
  "nbformat": 4,
  "nbformat_minor": 0,
  "metadata": {
    "colab": {
      "provenance": [],
      "authorship_tag": "ABX9TyNQm9gfoUCDJkGz3ZWxbQRe",
      "include_colab_link": true
    },
    "kernelspec": {
      "name": "python3",
      "display_name": "Python 3"
    },
    "language_info": {
      "name": "python"
    }
  },
  "cells": [
    {
      "cell_type": "markdown",
      "metadata": {
        "id": "view-in-github",
        "colab_type": "text"
      },
      "source": [
        "<a href=\"https://colab.research.google.com/github/raalmeidaa/faculmec/blob/main/Untitled0.ipynb\" target=\"_parent\"><img src=\"https://colab.research.google.com/assets/colab-badge.svg\" alt=\"Open In Colab\"/></a>"
      ]
    },
    {
      "cell_type": "code",
      "source": [],
      "metadata": {
        "id": "-CtrF7qlFsbI"
      },
      "execution_count": null,
      "outputs": []
    },
    {
      "cell_type": "code",
      "source": [
        "#importancia dos tipos de variaveis\n",
        "a = 2\n",
        "print (type (a))\n",
        "b = 3.0\n",
        "print (type (b))\n",
        "soma = a + b\n",
        "print (type (soma))\n",
        "print (soma)"
      ],
      "metadata": {
        "colab": {
          "base_uri": "https://localhost:8080/"
        },
        "id": "1DHMsHh3FyqY",
        "outputId": "a8227586-fc11-440a-d30f-3f661e9da1db"
      },
      "execution_count": 4,
      "outputs": [
        {
          "output_type": "stream",
          "name": "stdout",
          "text": [
            "<class 'int'>\n",
            "<class 'float'>\n",
            "<class 'float'>\n",
            "5.0\n"
          ]
        }
      ]
    },
    {
      "cell_type": "code",
      "source": [
        "num = int (input(\"digite valor inteiro: \"))\n",
        "print (type(num))\n",
        "quoc = num//2\n",
        "resto = num % 2\n",
        "print (quoc)\n",
        "print (resto)\n",
        "\n"
      ],
      "metadata": {
        "colab": {
          "base_uri": "https://localhost:8080/"
        },
        "id": "oJvjvBgPJHuN",
        "outputId": "472265d7-fdb8-4672-a1e5-118c09e66daf"
      },
      "execution_count": 11,
      "outputs": [
        {
          "output_type": "stream",
          "name": "stdout",
          "text": [
            "digite valor inteiro: 9\n",
            "<class 'int'>\n",
            "4\n",
            "1\n"
          ]
        }
      ]
    },
    {
      "cell_type": "code",
      "source": [
        "v1 = float (input(\"digite valor 1: \"))\n",
        "v2 = float (input(\"digite valor 2: \"))\n",
        "media = (v1 + v2)/2\n",
        "print(media)"
      ],
      "metadata": {
        "colab": {
          "base_uri": "https://localhost:8080/"
        },
        "id": "rzYWONECLPz6",
        "outputId": "59620177-17a2-4b68-9f8e-5dbd7cbf2679"
      },
      "execution_count": 15,
      "outputs": [
        {
          "output_type": "stream",
          "name": "stdout",
          "text": [
            "digite valor 1: 12\n",
            "digite valor 2: 6\n",
            "9.0\n"
          ]
        }
      ]
    }
  ]
}